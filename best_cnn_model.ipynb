{
  "nbformat": 4,
  "nbformat_minor": 0,
  "metadata": {
    "colab": {
      "name": "best_cnn_model.ipynb",
      "provenance": [],
      "collapsed_sections": [],
      "authorship_tag": "ABX9TyOBG0Oy9kgj7YbGowiDsEHH",
      "include_colab_link": true
    },
    "kernelspec": {
      "name": "python3",
      "display_name": "Python 3"
    },
    "language_info": {
      "name": "python"
    }
  },
  "cells": [
    {
      "cell_type": "markdown",
      "metadata": {
        "id": "view-in-github",
        "colab_type": "text"
      },
      "source": [
        "<a href=\"https://colab.research.google.com/github/neSTORY/Deeplearning_Zero_to_All/blob/master/best_cnn_model.ipynb\" target=\"_parent\"><img src=\"https://colab.research.google.com/assets/colab-badge.svg\" alt=\"Open In Colab\"/></a>"
      ]
    },
    {
      "cell_type": "markdown",
      "source": [
        "그 동안 배웠던 방법들을 통해 최적의 model을 만들어 보자.\n",
        "\n",
        "<br>\n",
        "\n",
        "[활용할 방법들]\n",
        "- Data Augmentation\n",
        "- Batch Normalization\n",
        "- Model Ensemble\n",
        "- Learning Rate Decay"
      ],
      "metadata": {
        "id": "PR4lkoBPRQb_"
      }
    },
    {
      "cell_type": "code",
      "source": [
        "# import\n",
        "import numpy as np\n",
        "import matplotlib.pyplot as plt\n",
        "import os\n",
        "\n",
        "from scipy import ndimage # for data augmentation\n",
        "\n",
        "import tensorflow as tf\n",
        "from tensorflow import keras\n",
        "from tensorflow.keras.utils import to_categorical"
      ],
      "metadata": {
        "id": "Pw4b2juURXmK"
      },
      "execution_count": 2,
      "outputs": []
    },
    {
      "cell_type": "code",
      "source": [
        "# set hyperparameter\n",
        "lr = 1e-3\n",
        "epochs = 10\n",
        "batch_size = 100"
      ],
      "metadata": {
        "id": "EdUcX0V6SLru"
      },
      "execution_count": 3,
      "outputs": []
    },
    {
      "cell_type": "code",
      "source": [
        "# Data Augmentation\n",
        "# 나중에 keras의 데이터증강방법을 이용해보자\n",
        "def data_augmentaion(images, labels):\n",
        "  aug_images = []\n",
        "  aug_labels = []\n",
        "\n",
        "  for x, y in zip(images, labels):\n",
        "    aug_images.append(x)\n",
        "    aug_labels.append(y)\n",
        "\n",
        "    bg_value = np.median(x)\n",
        "    # augmentation할 때 shift, rotation을 하면 빈 공간이 생기는데\n",
        "    # 이때 빈 공간을 채워주기 위해 중위수를 구해놓음\n",
        "\n",
        "    for _ in range(4): # 4번 데이터 증강 6만 -> 24만\n",
        "      angle = np.random.randint(-15, 15, 1)\n",
        "      rot_img = ndimage.rotate(x, angle, reshape=False, cval=bg_value)\n",
        "\n",
        "      shift = np.random.randint(-2,2,2)\n",
        "      shift_img = ndimage.shift(rot_img, shift, cval=bg_value)"
      ],
      "metadata": {
        "id": "v2KJ-QD0SY1q"
      },
      "execution_count": null,
      "outputs": []
    }
  ]
}