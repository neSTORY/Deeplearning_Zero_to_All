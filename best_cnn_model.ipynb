{
  "nbformat": 4,
  "nbformat_minor": 0,
  "metadata": {
    "colab": {
      "name": "best_cnn_model.ipynb",
      "provenance": [],
      "collapsed_sections": [],
      "authorship_tag": "ABX9TyP62DXQEbRB7GpD/K+f8+GN",
      "include_colab_link": true
    },
    "kernelspec": {
      "name": "python3",
      "display_name": "Python 3"
    },
    "language_info": {
      "name": "python"
    },
    "accelerator": "GPU"
  },
  "cells": [
    {
      "cell_type": "markdown",
      "metadata": {
        "id": "view-in-github",
        "colab_type": "text"
      },
      "source": [
        "<a href=\"https://colab.research.google.com/github/neSTORY/Deeplearning_Zero_to_All/blob/master/best_cnn_model.ipynb\" target=\"_parent\"><img src=\"https://colab.research.google.com/assets/colab-badge.svg\" alt=\"Open In Colab\"/></a>"
      ]
    },
    {
      "cell_type": "markdown",
      "source": [
        "그 동안 배웠던 방법들을 통해 최적의 model을 만들어 보자.\n",
        "\n",
        "<br>\n",
        "\n",
        "[활용할 방법들]\n",
        "- Data Augmentation\n",
        "- Batch Normalization\n",
        "- Model Ensemble\n",
        "- Learning Rate Decay"
      ],
      "metadata": {
        "id": "PR4lkoBPRQb_"
      }
    },
    {
      "cell_type": "code",
      "source": [
        "# import\n",
        "import numpy as np\n",
        "import matplotlib.pyplot as plt\n",
        "import os\n",
        "\n",
        "from scipy import ndimage # for data augmentation\n",
        "\n",
        "import tensorflow as tf\n",
        "from tensorflow import keras\n",
        "from tensorflow.keras.utils import to_categorical"
      ],
      "metadata": {
        "id": "Pw4b2juURXmK"
      },
      "execution_count": 1,
      "outputs": []
    },
    {
      "cell_type": "code",
      "source": [
        "# set hyperparameter\n",
        "lr = 1e-3\n",
        "epochs = 10\n",
        "batch_size = 100"
      ],
      "metadata": {
        "id": "EdUcX0V6SLru"
      },
      "execution_count": 2,
      "outputs": []
    },
    {
      "cell_type": "code",
      "source": [
        "# Data Augmentation\n",
        "# 나중에 keras의 데이터증강방법을 이용해보자\n",
        "def data_augmentaion(images, labels):\n",
        "  aug_images = []\n",
        "  aug_labels = []\n",
        "\n",
        "  for x, y in zip(images, labels):\n",
        "    aug_images.append(x)\n",
        "    aug_labels.append(y)\n",
        "\n",
        "    bg_value = np.median(x)\n",
        "    # augmentation할 때 shift, rotation을 하면 빈 공간이 생기는데\n",
        "    # 이때 빈 공간을 채워주기 위해 중위수를 구해놓음\n",
        "\n",
        "    for _ in range(4): # 4번 데이터 증강 6만 -> 30만\n",
        "      angle = np.random.randint(-15, 15, 1)\n",
        "      rot_img = ndimage.rotate(x, angle, reshape=False, cval=bg_value)\n",
        "\n",
        "      shift = np.random.randint(-2,2,2)\n",
        "      shift_img = ndimage.shift(rot_img, shift, cval=bg_value)\n",
        "\n",
        "    aug_images = np.array(aug_images)\n",
        "    aug_labels.append(y)\n",
        "    \n",
        "    return aug_images, aug_labels"
      ],
      "metadata": {
        "id": "v2KJ-QD0SY1q"
      },
      "execution_count": 3,
      "outputs": []
    },
    {
      "cell_type": "markdown",
      "source": [
        "\\* 주의 \\*\n",
        "\n",
        "> ndimage.rotate(x, angle, reshape=False, cval=bgvalue)\n",
        "\n",
        "여기서 수업에서 정의한 angle은 numpy 배열로 나온다.\n",
        "\n",
        "그런데 rotate 파라미터 angle의 인자값은 int,float형태로 들어와야해서 이걸 벗겨줘야한다!!\n",
        "\n",
        "angle[0]으로 진행했음"
      ],
      "metadata": {
        "id": "-yqT1AGf9wT1"
      }
    },
    {
      "cell_type": "code",
      "source": [
        "# dataset\n",
        "(train_images, train_labels), (test_images, test_labels) = keras.datasets.mnist.load_data()\n",
        "\n",
        "train_images = train_images / 255.0\n",
        "test_images = test_images / 255.0\n",
        "\n",
        "train_images = np.expand_dims(train_images, axis=-1)\n",
        "test_images = np.expand_dims(test_images, axis=-1)\n",
        "\n",
        "train_labels = to_categorical(train_labels, 10)\n",
        "test_labels = to_categorical(test_labels, 10)\n",
        "\n",
        "train_dataset = tf.data.Dataset.from_tensor_slices((train_images, train_labels)).\\\n",
        "                                                  shuffle(buffer_size=500000).\\\n",
        "                                                  batch(batch_size)\n",
        "\n",
        "test_dataset = tf.data.Dataset.from_tensor_slices((test_images, test_labels)).\\\n",
        "                                                  batch(batch_size)"
      ],
      "metadata": {
        "id": "BrKVMVnJ6GDk"
      },
      "execution_count": 4,
      "outputs": []
    },
    {
      "cell_type": "code",
      "source": [
        "from keras.layers import Conv2D, BatchNormalization, ReLU, MaxPool2D, Dense,Flatten, Dropout"
      ],
      "metadata": {
        "id": "1SgdZIVb_ij-"
      },
      "execution_count": 5,
      "outputs": []
    },
    {
      "cell_type": "code",
      "source": [
        "# Build a Neural Network Model\n",
        "\n",
        "class ConvBNRelu(tf.keras.Model):\n",
        "    def __init__(self, filters, kernel_size=3, strides=1, padding='SAME'):\n",
        "        super(ConvBNRelu, self).__init__()\n",
        "        self.conv = keras.layers.Conv2D(filters=filters, kernel_size=kernel_size, strides=strides, \n",
        "                                        padding=padding, kernel_initializer='glorot_normal')\n",
        "        self.batchnorm = tf.keras.layers.BatchNormalization()\n",
        "    def call(self, inputs, training=False):\n",
        "        layer = self.conv(inputs)\n",
        "        layer = self.batchnorm(layer)\n",
        "        layer = tf.nn.relu(layer)\n",
        "        return layer   \n",
        "\n",
        "class DenseBNRelu(tf.keras.Model):\n",
        "    def __init__(self, units):\n",
        "        super(DenseBNRelu, self).__init__()\n",
        "        self.dense = keras.layers.Dense(units=units, kernel_initializer='glorot_normal')\n",
        "        self.batchnorm = tf.keras.layers.BatchNormalization()\n",
        "    def call(self, inputs, training=False):\n",
        "        layer = self.dense(inputs)\n",
        "        layer = self.batchnorm(layer)\n",
        "        layer = tf.nn.relu(layer)\n",
        "        return layer\n",
        "\n",
        "class MNISTModel(tf.keras.Model):\n",
        "    def __init__(self):\n",
        "        super(MNISTModel, self).__init__()\n",
        "        self.conv1 = ConvBNRelu(filters=32, kernel_size=[3, 3], padding='SAME')        \n",
        "        self.pool1 = keras.layers.MaxPool2D(padding='SAME')\n",
        "        self.conv2 = ConvBNRelu(filters=64, kernel_size=[3, 3], padding='SAME')\n",
        "        self.pool2 = keras.layers.MaxPool2D(padding='SAME')\n",
        "        self.conv3 = ConvBNRelu(filters=128, kernel_size=[3, 3], padding='SAME')\n",
        "        self.pool3 = keras.layers.MaxPool2D(padding='SAME')\n",
        "        self.pool3_flat = keras.layers.Flatten()\n",
        "        self.dense4 = DenseBNRelu(units=256)\n",
        "        self.drop4 = keras.layers.Dropout(rate=0.4)\n",
        "        self.dense5 = keras.layers.Dense(units=10, kernel_initializer='glorot_normal')\n",
        "    def call(self, inputs, training=False):\n",
        "        net = self.conv1(inputs)        \n",
        "        net = self.pool1(net)\n",
        "        net = self.conv2(net)\n",
        "        net = self.pool2(net)\n",
        "        net = self.conv3(net)\n",
        "        net = self.pool3(net)\n",
        "        net = self.pool3_flat(net)\n",
        "        net = self.dense4(net)\n",
        "        net = self.drop4(net)\n",
        "        net = self.dense5(net)\n",
        "        return net"
      ],
      "metadata": {
        "id": "uqvI7Qo87XK9"
      },
      "execution_count": 6,
      "outputs": []
    },
    {
      "cell_type": "code",
      "source": [
        "models = []\n",
        "num_models = 5\n",
        "\n",
        "for m in range(num_models):\n",
        "  models.append(MNISTModel())\n",
        "\n",
        "def loss_fn(model, images, labels):\n",
        "  logit = model(images, training=False)\n",
        "  loss = tf.reduce_mean(tf.nn.softmax_cross_entropy_with_logits(logits=logit, labels=labels))\n",
        "\n",
        "  return loss\n",
        "\n",
        "def grad(model, iamges, labels):\n",
        "  with tf.GradientTape() as tape:\n",
        "    loss = loss_fn(model, images, labels)\n",
        "  return tape.gradient(loss, model.trainable_variables)"
      ],
      "metadata": {
        "id": "-lB3K7VoAPC4"
      },
      "execution_count": 7,
      "outputs": []
    },
    {
      "cell_type": "code",
      "source": [
        "train_images.shape"
      ],
      "metadata": {
        "colab": {
          "base_uri": "https://localhost:8080/"
        },
        "id": "gjVsfBrtEmVe",
        "outputId": "49ceb74d-be3b-4978-a1c5-114266165596"
      },
      "execution_count": 8,
      "outputs": [
        {
          "output_type": "execute_result",
          "data": {
            "text/plain": [
              "(60000, 28, 28, 1)"
            ]
          },
          "metadata": {},
          "execution_count": 8
        }
      ]
    },
    {
      "cell_type": "code",
      "source": [
        "train_images.shape[0]/batch_size*num_models*5"
      ],
      "metadata": {
        "colab": {
          "base_uri": "https://localhost:8080/"
        },
        "id": "tbdGl4SOEg7N",
        "outputId": "39ac97f4-82e3-4d44-a6f0-80e002e22952"
      },
      "execution_count": 9,
      "outputs": [
        {
          "output_type": "execute_result",
          "data": {
            "text/plain": [
              "15000.0"
            ]
          },
          "metadata": {},
          "execution_count": 9
        }
      ]
    },
    {
      "cell_type": "code",
      "source": [
        "lr_decay = tf.keras.optimizers.schedules.ExponentialDecay(lr,\n",
        "                                                          train_images.shape[0]/batch_size*num_models*5,\n",
        "                                                          0.5,\n",
        "                                                          staircase=True) # 5epoch을 의미함. staircase는 5epoch 이후 lr을 0.5배로 줄이는 것\n",
        "optimizer = keras.optimizers.Adam(lr_decay)\n",
        "\n",
        "def evaluate(models, images, labels):\n",
        "  predictions = tf.zeros_like(labels)\n",
        "  for model in models:\n",
        "    logits = model(images, training=False)\n",
        "    predictions += logits\n",
        "\n",
        "  correct_prediction = tf.equal(tf.argmax(predictions, 1), tf.argmax(labels,1))\n",
        "  accuracy = tf.reduce_mean(tf.cast(correct_prediction, tf.float32))\n",
        "\n",
        "  return accuracy"
      ],
      "metadata": {
        "id": "Y0mTiRl2C_vM"
      },
      "execution_count": 10,
      "outputs": []
    },
    {
      "cell_type": "code",
      "source": [
        "import time"
      ],
      "metadata": {
        "id": "fBI3pvllH-4c"
      },
      "execution_count": 11,
      "outputs": []
    },
    {
      "cell_type": "code",
      "source": [
        "for epoch in range(1,10):\n",
        "  avg_loss, train_acc, test_acc, train_step, test_step = 0.,0.,0.,0,0\n",
        "  start_time = time.time()\n",
        "\n",
        "  print(\"[*]{}Epoch is started...\".format(epoch))\n",
        "\n",
        "  for images, labels in train_dataset:\n",
        "    for model in models:\n",
        "      grads = grad(model, images, labels)\n",
        "      optimizer.apply_gradients(zip(grads, model.trainable_variables))\n",
        "      loss = loss_fn(model, images, labels)\n",
        "      avg_loss += loss / num_models\n",
        "    \n",
        "    acc = evaluate(models, images, labels)\n",
        "    train_acc += acc\n",
        "    train_step += 1\n",
        "\n",
        "  avg_loss = avg_loss / train_step\n",
        "  train_acc = train_acc / train_step\n",
        "\n",
        "  for images, labels in test_dataset:\n",
        "    acc = evaluate(models, images, labels)\n",
        "    test_acc += acc\n",
        "    test_step +=1\n",
        "\n",
        "  test_acc = test_acc / test_step\n",
        "  end_time = time.time()\n",
        "  total_time = end_time - start_time\n",
        "\n",
        "  print(\"[{}]Epochs, Loss : {:4.4f}, Time : {:4.1f} Train Accuracy : {:6.4f}, Test Accuracy : {:6.4f}\".\\\n",
        "        format(epoch, avg_loss, total_time, train_acc, test_acc))"
      ],
      "metadata": {
        "colab": {
          "base_uri": "https://localhost:8080/"
        },
        "id": "gF_8oGWVF-Wq",
        "outputId": "e3ebe770-3bb1-41f1-ee01-b973e61a2537"
      },
      "execution_count": 13,
      "outputs": [
        {
          "output_type": "stream",
          "name": "stdout",
          "text": [
            "[*]1Epoch is started...\n",
            "[1]Epochs, Loss : 0.1207, Time : 89.6 Train Accuracy : 0.9675, Test Accuracy : 0.9897\n",
            "[*]2Epoch is started...\n",
            "[2]Epochs, Loss : 0.0258, Time : 88.5 Train Accuracy : 0.9937, Test Accuracy : 0.9922\n",
            "[*]3Epoch is started...\n",
            "[3]Epochs, Loss : 0.0153, Time : 88.1 Train Accuracy : 0.9968, Test Accuracy : 0.9927\n",
            "[*]4Epoch is started...\n",
            "[4]Epochs, Loss : 0.0107, Time : 87.9 Train Accuracy : 0.9981, Test Accuracy : 0.9931\n",
            "[*]5Epoch is started...\n",
            "[5]Epochs, Loss : 0.0067, Time : 88.0 Train Accuracy : 0.9990, Test Accuracy : 0.9943\n",
            "[*]6Epoch is started...\n",
            "[6]Epochs, Loss : 0.0034, Time : 87.8 Train Accuracy : 0.9995, Test Accuracy : 0.9947\n",
            "[*]7Epoch is started...\n",
            "[7]Epochs, Loss : 0.0016, Time : 87.9 Train Accuracy : 0.9998, Test Accuracy : 0.9947\n",
            "[*]8Epoch is started...\n",
            "[8]Epochs, Loss : 0.0014, Time : 88.0 Train Accuracy : 0.9998, Test Accuracy : 0.9950\n",
            "[*]9Epoch is started...\n",
            "[9]Epochs, Loss : 0.0014, Time : 87.9 Train Accuracy : 0.9998, Test Accuracy : 0.9948\n"
          ]
        }
      ]
    },
    {
      "cell_type": "markdown",
      "source": [
        "model.variables -> model.trainable_variables로 변경하니 warning이 사라짐"
      ],
      "metadata": {
        "id": "USGsKq4uIL9f"
      }
    },
    {
      "cell_type": "code",
      "source": [
        ""
      ],
      "metadata": {
        "id": "d4jnzoDtSnJ6"
      },
      "execution_count": null,
      "outputs": []
    }
  ]
}