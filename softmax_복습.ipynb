{
  "nbformat": 4,
  "nbformat_minor": 0,
  "metadata": {
    "colab": {
      "name": "softmax_복습.ipynb",
      "provenance": [],
      "authorship_tag": "ABX9TyMYSBsux7Qa4mj/hMCaUhX0",
      "include_colab_link": true
    },
    "kernelspec": {
      "name": "python3",
      "display_name": "Python 3"
    },
    "language_info": {
      "name": "python"
    }
  },
  "cells": [
    {
      "cell_type": "markdown",
      "metadata": {
        "id": "view-in-github",
        "colab_type": "text"
      },
      "source": [
        "<a href=\"https://colab.research.google.com/github/neSTORY/Deeplearning_Zero_to_All/blob/master/softmax_%EB%B3%B5%EC%8A%B5.ipynb\" target=\"_parent\"><img src=\"https://colab.research.google.com/assets/colab-badge.svg\" alt=\"Open In Colab\"/></a>"
      ]
    },
    {
      "cell_type": "code",
      "execution_count": 1,
      "metadata": {
        "id": "LFVcf_ZgoRnB"
      },
      "outputs": [],
      "source": [
        "import numpy as np\n",
        "import matplotlib.pyplot as plt\n",
        "import tensorflow as tf"
      ]
    },
    {
      "cell_type": "code",
      "source": [
        "# data\n",
        "x_data = [[1, 2, 1, 1],\n",
        "          [2, 1, 3, 2],\n",
        "          [3, 1, 3, 4],\n",
        "          [4, 1, 5, 5],\n",
        "          [1, 7, 5, 5],\n",
        "          [1, 2, 5, 6],\n",
        "          [1, 6, 6, 6],\n",
        "          [1, 7, 7, 7]]\n",
        "          \n",
        "y_data = [[0, 0, 1],\n",
        "          [0, 0, 1],\n",
        "          [0, 0, 1],\n",
        "          [0, 1, 0],\n",
        "          [0, 1, 0],\n",
        "          [0, 1, 0],\n",
        "          [1, 0, 0],\n",
        "          [1, 0, 0]]\n",
        "\n",
        "x_data = np.asarray(x_data, dtype=np.float32)\n",
        "y_data = np.asarray(y_data, dtype=np.float32)"
      ],
      "metadata": {
        "id": "KZJG6auWGuco"
      },
      "execution_count": 4,
      "outputs": []
    },
    {
      "cell_type": "code",
      "source": [
        "# shape of output\n",
        "input_shape = x_data.shape[-1]\n",
        "output_shape = y_data.shape[-1]\n",
        "\n",
        "# weight & bias\n",
        "W = tf.Variable(tf.random.normal([input_shape, output_shape]), name=\"weight\")\n",
        "b = tf.Variable(tf.random.normal([output_shape]), name=\"bias\")"
      ],
      "metadata": {
        "id": "NuH_Tz1aGy2a"
      },
      "execution_count": 10,
      "outputs": []
    },
    {
      "cell_type": "code",
      "source": [
        "print(W.shape)\n",
        "print(b.shape)\n",
        "\n",
        "print(W)\n",
        "print(b)"
      ],
      "metadata": {
        "colab": {
          "base_uri": "https://localhost:8080/"
        },
        "id": "Z9DMkreMH1HL",
        "outputId": "0230049d-8dd0-4315-937e-382ee25b8092"
      },
      "execution_count": 12,
      "outputs": [
        {
          "output_type": "stream",
          "name": "stdout",
          "text": [
            "(4, 3)\n",
            "(3,)\n",
            "<tf.Variable 'weight:0' shape=(4, 3) dtype=float32, numpy=\n",
            "array([[ 0.70379466,  1.5352443 ,  0.53295094],\n",
            "       [-0.73621476,  0.53179765, -0.45222577],\n",
            "       [ 0.20244843, -0.41671765,  0.58190703],\n",
            "       [-0.61397743, -0.09683143, -0.16439489]], dtype=float32)>\n",
            "<tf.Variable 'bias:0' shape=(3,) dtype=float32, numpy=array([ 0.8482564 ,  1.4321135 , -0.28505102], dtype=float32)>\n"
          ]
        }
      ]
    },
    {
      "cell_type": "code",
      "source": [
        "# test\n",
        "sample_data = [[8,2,1,4]]\n",
        "sample_data = np.array(sample_data, dtype=\"float32\")\n",
        "\n",
        "# output\n",
        "tf.math.softmax(tf.matmul(sample_data, W) + b) # 두 번째 레이블이 선택됨."
      ],
      "metadata": {
        "colab": {
          "base_uri": "https://localhost:8080/"
        },
        "id": "KT1IsN-7IV4Z",
        "outputId": "f6f6fc91-2e3f-40bd-9a01-3900acea3b86"
      },
      "execution_count": 14,
      "outputs": [
        {
          "output_type": "execute_result",
          "data": {
            "text/plain": [
              "<tf.Tensor: shape=(1, 3), dtype=float32, numpy=array([[1.3390982e-05, 9.9996948e-01, 1.7120745e-05]], dtype=float32)>"
            ]
          },
          "metadata": {},
          "execution_count": 14
        }
      ]
    },
    {
      "cell_type": "code",
      "source": [
        "def hypothesis(x):\n",
        "  hx = tf.math.softmax(tf.matmul(x,W)+b)\n",
        "  return hx\n",
        "\n",
        "def loss_fn(x,y):\n",
        "  loss = tf.reduce_mean(-tf.reduce_mean(y*tf.math.log(hypothesis(x)),axis=1))\n",
        "  return loss\n",
        "\n",
        "optimizers = tf.keras.optimizers.SGD(0.1)\n",
        "\n",
        "def grad_fn(x, y):\n",
        "  with tf.GradientTape() as tape:\n",
        "    loss = loss_fn(x, y)\n",
        "    grads = tape.gradient(loss, [W,b])\n",
        "    return grads"
      ],
      "metadata": {
        "id": "y00SI4dhH54A"
      },
      "execution_count": 19,
      "outputs": []
    },
    {
      "cell_type": "code",
      "source": [
        "epochs = 2000\n",
        "\n",
        "for epoch in range(1, epochs+1):\n",
        "  grads = grad_fn(x_data, y_data)\n",
        "  optimizers.apply_gradients(zip(grads, [W,b]))\n",
        "  if epoch % 100 == 0:\n",
        "    print(\"epoch : {:2}, Loss : {:4.3f}\".format(epoch, loss_fn(x_data, y_data)))"
      ],
      "metadata": {
        "colab": {
          "base_uri": "https://localhost:8080/"
        },
        "id": "XkpW9ibRIVNr",
        "outputId": "d0f702dc-4470-4d0e-d4b0-61c684f001b5"
      },
      "execution_count": 20,
      "outputs": [
        {
          "output_type": "stream",
          "name": "stdout",
          "text": [
            "epoch : 100, Loss : 0.285\n",
            "epoch : 200, Loss : 0.226\n",
            "epoch : 300, Loss : 0.197\n",
            "epoch : 400, Loss : 0.180\n",
            "epoch : 500, Loss : 0.168\n",
            "epoch : 600, Loss : 0.159\n",
            "epoch : 700, Loss : 0.152\n",
            "epoch : 800, Loss : 0.146\n",
            "epoch : 900, Loss : 0.140\n",
            "epoch : 1000, Loss : 0.136\n",
            "epoch : 1100, Loss : 0.131\n",
            "epoch : 1200, Loss : 0.127\n",
            "epoch : 1300, Loss : 0.124\n",
            "epoch : 1400, Loss : 0.120\n",
            "epoch : 1500, Loss : 0.117\n",
            "epoch : 1600, Loss : 0.114\n",
            "epoch : 1700, Loss : 0.111\n",
            "epoch : 1800, Loss : 0.109\n",
            "epoch : 1900, Loss : 0.106\n",
            "epoch : 2000, Loss : 0.104\n"
          ]
        }
      ]
    },
    {
      "cell_type": "code",
      "source": [
        "print(tf.argmax(hypothesis(x_data),1))\n",
        "print(tf.argmax(y_data,1))"
      ],
      "metadata": {
        "colab": {
          "base_uri": "https://localhost:8080/"
        },
        "id": "IYRUbRdpLc0r",
        "outputId": "6788841e-3600-470f-a153-48072943da12"
      },
      "execution_count": 25,
      "outputs": [
        {
          "output_type": "stream",
          "name": "stdout",
          "text": [
            "tf.Tensor([2 2 2 1 1 1 0 0], shape=(8,), dtype=int64)\n",
            "tf.Tensor([2 2 2 1 1 1 0 0], shape=(8,), dtype=int64)\n"
          ]
        }
      ]
    },
    {
      "cell_type": "code",
      "source": [
        ""
      ],
      "metadata": {
        "colab": {
          "base_uri": "https://localhost:8080/"
        },
        "id": "IyeuZ9zaM16b",
        "outputId": "67892ea6-769f-42c1-e69b-74ac7649c8db"
      },
      "execution_count": 38,
      "outputs": [
        {
          "output_type": "execute_result",
          "data": {
            "text/plain": [
              "<tf.Tensor: shape=(1, 8), dtype=int64, numpy=array([[1, 2, 3, 2, 1, 3, 1, 1]])>"
            ]
          },
          "metadata": {},
          "execution_count": 38
        }
      ]
    },
    {
      "cell_type": "code",
      "source": [
        "tf.argmax(x_data,0)"
      ],
      "metadata": {
        "colab": {
          "base_uri": "https://localhost:8080/"
        },
        "id": "v1DH7nMgMtdJ",
        "outputId": "cb77902c-aced-4f79-db02-e0f28d450ce7"
      },
      "execution_count": 32,
      "outputs": [
        {
          "output_type": "execute_result",
          "data": {
            "text/plain": [
              "<tf.Tensor: shape=(4,), dtype=int64, numpy=array([3, 4, 7, 7])>"
            ]
          },
          "metadata": {},
          "execution_count": 32
        }
      ]
    }
  ]
}