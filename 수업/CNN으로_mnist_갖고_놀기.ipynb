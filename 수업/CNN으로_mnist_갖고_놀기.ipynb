{
  "nbformat": 4,
  "nbformat_minor": 0,
  "metadata": {
    "colab": {
      "name": "CNN으로_mnist_갖고_놀기.ipynb",
      "provenance": [],
      "collapsed_sections": [],
      "authorship_tag": "ABX9TyO2ZjeWFlhK8kWhP6wRtEyd",
      "include_colab_link": true
    },
    "kernelspec": {
      "name": "python3",
      "display_name": "Python 3"
    },
    "language_info": {
      "name": "python"
    },
    "accelerator": "GPU"
  },
  "cells": [
    {
      "cell_type": "markdown",
      "metadata": {
        "id": "view-in-github",
        "colab_type": "text"
      },
      "source": [
        "<a href=\"https://colab.research.google.com/github/neSTORY/Deeplearning_Zero_to_All/blob/master/CNN%EC%9C%BC%EB%A1%9C_mnist_%EA%B0%96%EA%B3%A0_%EB%86%80%EA%B8%B0.ipynb\" target=\"_parent\"><img src=\"https://colab.research.google.com/assets/colab-badge.svg\" alt=\"Open In Colab\"/></a>"
      ]
    },
    {
      "cell_type": "code",
      "execution_count": 33,
      "metadata": {
        "id": "qxWKfS43ZZKb"
      },
      "outputs": [],
      "source": [
        "import numpy as np\n",
        "import matplotlib.pyplot as plt\n",
        "import os\n",
        "import time\n",
        "\n",
        "import tensorflow as tf\n",
        "from tensorflow import keras\n",
        "from tensorflow.keras.utils import to_categorical"
      ]
    },
    {
      "cell_type": "code",
      "source": [
        "# Set Hyper parameters\n",
        "lr = 1e-3\n",
        "epochs = 15\n",
        "batch_size = 100\n",
        "\n",
        "current_dir = os.getcwd()\n",
        "ckpt_dir_name = \"checkpoints\"\n",
        "model_dir_name = \"mnist_cnn_seq\"\n",
        "\n",
        "checkpoint_dir = os.path.join(current_dir, ckpt_dir_name, model_dir_name)\n",
        "os.makedirs(checkpoint_dir, exist_ok=True)\n",
        "\n",
        "checkpoint_prefix = os.path.join(checkpoint_dir, model_dir_name)"
      ],
      "metadata": {
        "id": "htKHxJTabYqw"
      },
      "execution_count": 36,
      "outputs": []
    },
    {
      "cell_type": "code",
      "source": [
        "checkpoint_dir"
      ],
      "metadata": {
        "colab": {
          "base_uri": "https://localhost:8080/",
          "height": 35
        },
        "id": "1OEERDs3b79h",
        "outputId": "4b26d1a1-56d6-4e39-ccf0-9cc0470b52b2"
      },
      "execution_count": 37,
      "outputs": [
        {
          "output_type": "execute_result",
          "data": {
            "application/vnd.google.colaboratory.intrinsic+json": {
              "type": "string"
            },
            "text/plain": [
              "'/content/checkpoints/mnist_cnn_seq'"
            ]
          },
          "metadata": {},
          "execution_count": 37
        }
      ]
    },
    {
      "cell_type": "code",
      "source": [
        "checkpoint_prefix"
      ],
      "metadata": {
        "colab": {
          "base_uri": "https://localhost:8080/",
          "height": 35
        },
        "id": "Izl8Byhjb_6a",
        "outputId": "a10539b6-82bc-4cbf-e9d8-5b8e8d61906f"
      },
      "execution_count": 38,
      "outputs": [
        {
          "output_type": "execute_result",
          "data": {
            "application/vnd.google.colaboratory.intrinsic+json": {
              "type": "string"
            },
            "text/plain": [
              "'/content/checkpoints/mnist_cnn_seq/mnist_cnn_seq'"
            ]
          },
          "metadata": {},
          "execution_count": 38
        }
      ]
    },
    {
      "cell_type": "code",
      "source": [
        "# load dataset\n",
        "(train_images, train_labels), (test_images, test_labels) = keras.datasets.mnist.load_data()\n",
        "\n",
        "# preprocessing data\n",
        "train_images = train_images.astype(np.float32)/255.0\n",
        "test_images = test_images.astype(np.float32)/255.0\n",
        "train_images = np.expand_dims(train_images, axis=-1)\n",
        "test_images = np.expand_dims(test_images, axis=-1)\n",
        "\n",
        "train_labels = to_categorical(train_labels, 10)\n",
        "test_labels = to_categorical(test_labels, 10)\n",
        "\n",
        "train_dataset = tf.data.Dataset.from_tensor_slices((train_images, train_labels)).\\\n",
        "                                                  shuffle(buffer_size=100000).\\\n",
        "                                                  batch(batch_size)\n",
        "\n",
        "test_dataset = tf.data.Dataset.from_tensor_slices((test_images, test_labels)).\\\n",
        "                                                 batch(batch_size)"
      ],
      "metadata": {
        "id": "1QyM8eMhcCh8"
      },
      "execution_count": 39,
      "outputs": []
    },
    {
      "cell_type": "code",
      "source": [
        "from keras import Sequential\n",
        "from keras.layers import Conv2D,MaxPooling2D, Flatten, Dense, Dropout\n",
        "relu = keras.activations.relu"
      ],
      "metadata": {
        "id": "gfFFKC45dQYA"
      },
      "execution_count": 40,
      "outputs": []
    },
    {
      "cell_type": "code",
      "source": [
        "def create_model():\n",
        "  model = Sequential()\n",
        "  model.add(Conv2D(32, kernel_size=3, activation=relu, padding=\"same\", input_shape=(28,28,1)))\n",
        "  model.add(MaxPooling2D(padding=\"same\"))\n",
        "  \n",
        "  model.add(Conv2D(64, kernel_size=3, activation=relu, padding=\"same\"))\n",
        "  model.add(MaxPooling2D(padding=\"same\"))\n",
        "\n",
        "  model.add(Conv2D(128, kernel_size=3, activation=relu, padding=\"same\"))\n",
        "  model.add(MaxPooling2D(padding=\"same\"))\n",
        "\n",
        "  model.add(Flatten())\n",
        "  model.add(Dense(256, activation=relu))\n",
        "  model.add(Dropout(0.4))\n",
        "  model.add(Dense(10))\n",
        "\n",
        "  return model"
      ],
      "metadata": {
        "id": "5bYeOGREeRn7"
      },
      "execution_count": 41,
      "outputs": []
    },
    {
      "cell_type": "code",
      "source": [
        "model = create_model()\n",
        "model.summary()"
      ],
      "metadata": {
        "colab": {
          "base_uri": "https://localhost:8080/"
        },
        "id": "GRfoJ9pWfaSa",
        "outputId": "3292eb13-9e82-409b-ec46-24f0e619b4ac"
      },
      "execution_count": 42,
      "outputs": [
        {
          "output_type": "stream",
          "name": "stdout",
          "text": [
            "Model: \"sequential_2\"\n",
            "_________________________________________________________________\n",
            " Layer (type)                Output Shape              Param #   \n",
            "=================================================================\n",
            " conv2d_6 (Conv2D)           (None, 28, 28, 32)        320       \n",
            "                                                                 \n",
            " max_pooling2d_6 (MaxPooling  (None, 14, 14, 32)       0         \n",
            " 2D)                                                             \n",
            "                                                                 \n",
            " conv2d_7 (Conv2D)           (None, 14, 14, 64)        18496     \n",
            "                                                                 \n",
            " max_pooling2d_7 (MaxPooling  (None, 7, 7, 64)         0         \n",
            " 2D)                                                             \n",
            "                                                                 \n",
            " conv2d_8 (Conv2D)           (None, 7, 7, 128)         73856     \n",
            "                                                                 \n",
            " max_pooling2d_8 (MaxPooling  (None, 4, 4, 128)        0         \n",
            " 2D)                                                             \n",
            "                                                                 \n",
            " flatten_2 (Flatten)         (None, 2048)              0         \n",
            "                                                                 \n",
            " dense_4 (Dense)             (None, 256)               524544    \n",
            "                                                                 \n",
            " dropout_2 (Dropout)         (None, 256)               0         \n",
            "                                                                 \n",
            " dense_5 (Dense)             (None, 10)                2570      \n",
            "                                                                 \n",
            "=================================================================\n",
            "Total params: 619,786\n",
            "Trainable params: 619,786\n",
            "Non-trainable params: 0\n",
            "_________________________________________________________________\n"
          ]
        }
      ]
    },
    {
      "cell_type": "code",
      "source": [
        "def loss_fn(model, images, labels):\n",
        "  logits = model(images, training=True) # training => dropout 적용\n",
        "  loss = tf.reduce_mean(tf.nn.softmax_cross_entropy_with_logits(logits=logits,\n",
        "                                                                labels=labels))\n",
        "  return loss\n",
        "\n",
        "def grad(model, images, labels):\n",
        "  with tf.GradientTape() as tape:\n",
        "    loss = loss_fn(model, images, labels)\n",
        "  return tape.gradient(loss, model.variables)"
      ],
      "metadata": {
        "id": "kgFiVA3CgJ07"
      },
      "execution_count": 46,
      "outputs": []
    },
    {
      "cell_type": "code",
      "source": [
        "optimizer = keras.optimizers.Adam(learning_rate=lr)\n",
        "\n",
        "def evaluate(model, images, labels):\n",
        "  logits = model(images, training=False)\n",
        "  correct_prediction = tf.equal(tf.argmax(logits, 1), tf.argmax(labels, 1))\n",
        "  accuracy = tf.reduce_mean(tf.cast(correct_prediction, tf.float32))\n",
        "  return accuracy\n",
        "\n",
        "checkpoint = tf.train.Checkpoint(cnn=model)"
      ],
      "metadata": {
        "id": "dpr2zLPkhZfH"
      },
      "execution_count": 51,
      "outputs": []
    },
    {
      "cell_type": "code",
      "source": [
        "# training\n",
        "for epoch in range(epochs):\n",
        "  avg_loss, avg_train_acc, avg_test_acc, train_step, test_step = 0,0,0,0,0\n",
        "  start_time = time.time()\n",
        "\n",
        "  for images, labels, in train_dataset:\n",
        "\n",
        "    grads = grad(model, images, labels)\n",
        "    optimizer.apply_gradients(zip(grads, model.variables))\n",
        "    loss = loss_fn(model, images, labels)\n",
        "    acc = evaluate(model, images, labels)\n",
        "    avg_loss += loss\n",
        "    avg_train_acc += acc\n",
        "    train_step +=1\n",
        "\n",
        "  avg_loss = avg_loss / train_step\n",
        "  avg_train_acc = avg_train_acc/train_step\n",
        "\n",
        "  for images, labels in test_dataset:\n",
        "    acc = evaluate(model, images, labels)\n",
        "    avg_test_acc = avg_test_acc + acc\n",
        "    test_step +=1\n",
        "  acg_test_acc = avg_test_acc / test_step\n",
        "  end_time = time.time()\n",
        "  total_time = end_time-start_time\n",
        "\n",
        "  print(\"EPOCH : {:4}, Loss : {:6.4f}, Train Accuracy : {:6.4f}, Test Accuracy : {:6.4f}, time : {:6.2f}\".format(epoch, avg_loss, avg_train_acc, avg_test_acc, total_time))"
      ],
      "metadata": {
        "colab": {
          "base_uri": "https://localhost:8080/"
        },
        "id": "VKuEa6ddiOp4",
        "outputId": "e4df5912-2c98-4861-e43b-728beebd785b"
      },
      "execution_count": 53,
      "outputs": [
        {
          "output_type": "stream",
          "name": "stdout",
          "text": [
            "EPOCH :    0, Loss : 0.0070, Train Accuracy : 0.9992, Test Accuracy : 99.3800, time :  19.08\n",
            "EPOCH :    1, Loss : 0.0062, Train Accuracy : 0.9992, Test Accuracy : 99.2400, time :  18.83\n",
            "EPOCH :    2, Loss : 0.0053, Train Accuracy : 0.9994, Test Accuracy : 99.2700, time :  19.15\n",
            "EPOCH :    3, Loss : 0.0053, Train Accuracy : 0.9995, Test Accuracy : 99.3700, time :  18.94\n",
            "EPOCH :    4, Loss : 0.0045, Train Accuracy : 0.9995, Test Accuracy : 99.2900, time :  18.80\n",
            "EPOCH :    5, Loss : 0.0036, Train Accuracy : 0.9996, Test Accuracy : 99.2200, time :  18.72\n",
            "EPOCH :    6, Loss : 0.0035, Train Accuracy : 0.9997, Test Accuracy : 99.3100, time :  18.92\n",
            "EPOCH :    7, Loss : 0.0041, Train Accuracy : 0.9996, Test Accuracy : 99.2300, time :  19.11\n",
            "EPOCH :    8, Loss : 0.0035, Train Accuracy : 0.9997, Test Accuracy : 99.3500, time :  18.87\n",
            "EPOCH :    9, Loss : 0.0024, Train Accuracy : 0.9998, Test Accuracy : 99.3400, time :  18.85\n",
            "EPOCH :   10, Loss : 0.0030, Train Accuracy : 0.9998, Test Accuracy : 99.2800, time :  19.02\n",
            "EPOCH :   11, Loss : 0.0026, Train Accuracy : 0.9998, Test Accuracy : 99.3900, time :  19.24\n",
            "EPOCH :   12, Loss : 0.0027, Train Accuracy : 0.9998, Test Accuracy : 99.2200, time :  18.88\n",
            "EPOCH :   13, Loss : 0.0035, Train Accuracy : 0.9997, Test Accuracy : 99.2600, time :  18.82\n",
            "EPOCH :   14, Loss : 0.0018, Train Accuracy : 0.9999, Test Accuracy : 99.3900, time :  18.93\n"
          ]
        }
      ]
    },
    {
      "cell_type": "code",
      "source": [
        ""
      ],
      "metadata": {
        "id": "yFqGgRMUjEOn"
      },
      "execution_count": null,
      "outputs": []
    }
  ]
}