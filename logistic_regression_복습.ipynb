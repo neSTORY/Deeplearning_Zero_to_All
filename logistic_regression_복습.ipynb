{
  "nbformat": 4,
  "nbformat_minor": 0,
  "metadata": {
    "colab": {
      "name": "logistic_regression_복습.ipynb",
      "provenance": [],
      "collapsed_sections": [],
      "authorship_tag": "ABX9TyN7o7VlDE8E7ojTpww9N8Sg",
      "include_colab_link": true
    },
    "kernelspec": {
      "name": "python3",
      "display_name": "Python 3"
    },
    "language_info": {
      "name": "python"
    }
  },
  "cells": [
    {
      "cell_type": "markdown",
      "metadata": {
        "id": "view-in-github",
        "colab_type": "text"
      },
      "source": [
        "<a href=\"https://colab.research.google.com/github/neSTORY/Deeplearning_Zero_to_All/blob/master/logistic_regression_%EB%B3%B5%EC%8A%B5.ipynb\" target=\"_parent\"><img src=\"https://colab.research.google.com/assets/colab-badge.svg\" alt=\"Open In Colab\"/></a>"
      ]
    },
    {
      "cell_type": "code",
      "execution_count": 27,
      "metadata": {
        "id": "OY6f4OGMgCXM"
      },
      "outputs": [],
      "source": [
        "import numpy as np\n",
        "import tensorflow as tf"
      ]
    },
    {
      "cell_type": "code",
      "source": [
        "# data\n",
        "x_train = [[1., 2.],\n",
        "           [2., 3.],\n",
        "           [3., 1.],\n",
        "           [4., 3.],\n",
        "           [5., 3.],\n",
        "           [6., 2.]]\n",
        "\n",
        "y_train = [[0.],\n",
        "           [0.],\n",
        "           [0.],\n",
        "           [1.],\n",
        "           [1.],\n",
        "           [1.]]\n",
        "\n",
        "x_test = [[5., 2.]]\n",
        "y_test = [[1.]]\n",
        "\n",
        "# dataset\n",
        "dataset = tf.data.Dataset.from_tensor_slices((x_train, y_train)).\\\n",
        "                                              batch(len(x_train)).\\\n",
        "                                              shuffle(100)"
      ],
      "metadata": {
        "id": "6xLT8_HWgJrB"
      },
      "execution_count": 44,
      "outputs": []
    },
    {
      "cell_type": "code",
      "source": [
        "# weight & bias\n",
        "W = tf.Variable(tf.random.normal([2,1]))\n",
        "b = tf.Variable(tf.random.normal([1]))"
      ],
      "metadata": {
        "id": "Rhcp4XcOgRdW"
      },
      "execution_count": 50,
      "outputs": []
    },
    {
      "cell_type": "code",
      "source": [
        "def loss_fn(x, y):\n",
        "  hypothesis = tf.math.sigmoid(tf.matmul(x,W) + b)\n",
        "  loss = -y * tf.math.log(hypothesis) - (1-y) * tf.math.log(1-hypothesis)\n",
        "  loss = tf.reduce_mean(loss)\n",
        "  return loss\n",
        "\n",
        "def grad(x, y):\n",
        "  with tf.GradientTape() as tape:\n",
        "    loss = loss_fn(x,y)\n",
        "    return tape.gradient(loss, [W,b])"
      ],
      "metadata": {
        "id": "Jb2T2WCMgeET"
      },
      "execution_count": 46,
      "outputs": []
    },
    {
      "cell_type": "code",
      "source": [
        "optimizer = tf.keras.optimizers.SGD(learning_rate=3e-2)"
      ],
      "metadata": {
        "id": "y9YiNwEnkEUF"
      },
      "execution_count": 49,
      "outputs": []
    },
    {
      "cell_type": "code",
      "source": [
        "epochs = 1000\n",
        "lr = 1e-3\n",
        "\n",
        "for epoch in range(1, epochs+1):\n",
        "  for x, y in dataset:\n",
        "    grads = grad(x,y)\n",
        "    optimizer.apply_gradients(grads_and_vars=zip(grads, [W,b]))  \n",
        "    if epoch % 100 == 0:\n",
        "      print(\"Epoch : {:2}, Loss : {:4f}\".format(epoch, loss_fn(x,y)))"
      ],
      "metadata": {
        "colab": {
          "base_uri": "https://localhost:8080/"
        },
        "id": "UmASZGzWjTft",
        "outputId": "7b6d523e-d91c-4303-a7ad-dbf17df7b99b"
      },
      "execution_count": 51,
      "outputs": [
        {
          "output_type": "stream",
          "name": "stdout",
          "text": [
            "Epoch : 100, Loss : 0.519986\n",
            "Epoch : 200, Loss : 0.475848\n",
            "Epoch : 300, Loss : 0.445911\n",
            "Epoch : 400, Loss : 0.421470\n",
            "Epoch : 500, Loss : 0.399925\n",
            "Epoch : 600, Loss : 0.380344\n",
            "Epoch : 700, Loss : 0.362330\n",
            "Epoch : 800, Loss : 0.345672\n",
            "Epoch : 900, Loss : 0.330235\n",
            "Epoch : 1000, Loss : 0.315909\n"
          ]
        }
      ]
    },
    {
      "cell_type": "code",
      "source": [
        "# predict\n",
        "def predict(x):\n",
        "  hx = tf.math.sigmoid(tf.matmul(x,W)+b)\n",
        "  y_hat = tf.cast(hx>0.5, dtype=tf.float32)\n",
        "  return y_hat"
      ],
      "metadata": {
        "id": "pBvegr9dk6xW"
      },
      "execution_count": 64,
      "outputs": []
    },
    {
      "cell_type": "code",
      "source": [
        "print(predict(x_train))\n",
        "print(y_train)"
      ],
      "metadata": {
        "colab": {
          "base_uri": "https://localhost:8080/"
        },
        "id": "0ER1HuJUmlbK",
        "outputId": "947a9a49-6178-4f73-d149-fc062e9501e9"
      },
      "execution_count": 66,
      "outputs": [
        {
          "output_type": "stream",
          "name": "stdout",
          "text": [
            "tf.Tensor(\n",
            "[[0.]\n",
            " [0.]\n",
            " [1.]\n",
            " [1.]\n",
            " [1.]\n",
            " [1.]], shape=(6, 1), dtype=float32)\n",
            "[[0.0], [0.0], [0.0], [1.0], [1.0], [1.0]]\n"
          ]
        }
      ]
    },
    {
      "cell_type": "code",
      "source": [
        "tf.reduce_mean(tf.cast(tf.equal(predict(x_train), y_train), dtype=tf.float32))"
      ],
      "metadata": {
        "colab": {
          "base_uri": "https://localhost:8080/"
        },
        "id": "ZyOI0oOfnFL4",
        "outputId": "ddc15474-2dde-43ad-85cc-aed99254a79b"
      },
      "execution_count": 77,
      "outputs": [
        {
          "output_type": "execute_result",
          "data": {
            "text/plain": [
              "<tf.Tensor: shape=(), dtype=float32, numpy=0.8333333>"
            ]
          },
          "metadata": {},
          "execution_count": 77
        }
      ]
    },
    {
      "cell_type": "code",
      "source": [
        "def accuracy_fn(x, y):\n",
        "  y_hat = predict(x)\n",
        "  acc = tf.reduce_mean(tf.cast(tf.equal(y_hat, y), dtype=tf.float32))\n",
        "  return acc"
      ],
      "metadata": {
        "id": "AWLKUTG-nArY"
      },
      "execution_count": 79,
      "outputs": []
    },
    {
      "cell_type": "code",
      "source": [
        "print(\"Test Accuracy : {:2.2f}%\".format(accuracy_fn(x_test, y_test)*100))"
      ],
      "metadata": {
        "colab": {
          "base_uri": "https://localhost:8080/"
        },
        "id": "5aKmvCeln09Q",
        "outputId": "dff0c1b5-171e-4598-f00b-75bf3c95dc3a"
      },
      "execution_count": 85,
      "outputs": [
        {
          "output_type": "stream",
          "name": "stdout",
          "text": [
            "Test Accuracy : 100.00%\n"
          ]
        }
      ]
    }
  ]
}